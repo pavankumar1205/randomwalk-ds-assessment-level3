{
 "cells": [
  {
   "cell_type": "markdown",
   "id": "8b79abe8",
   "metadata": {},
   "source": [
    "# Importing the libraries"
   ]
  },
  {
   "cell_type": "code",
   "execution_count": 1,
   "id": "7be0ffdb",
   "metadata": {},
   "outputs": [],
   "source": [
    "import pandas as pd\n",
    "import numpy as np\n",
    "from matplotlib import pyplot as plt"
   ]
  },
  {
   "cell_type": "markdown",
   "id": "a1096b4b",
   "metadata": {},
   "source": [
    "# Reading the csv files using Pandas"
   ]
  },
  {
   "cell_type": "code",
   "execution_count": 26,
   "id": "12093889",
   "metadata": {},
   "outputs": [],
   "source": [
    "df = pd.read_csv('books.csv')\n",
    "df1= pd.read_csv('book_tags.csv')\n",
    "df2= pd.read_csv('ratings.csv')"
   ]
  },
  {
   "cell_type": "markdown",
   "id": "71c4ac08",
   "metadata": {},
   "source": [
    "# Q1"
   ]
  },
  {
   "cell_type": "code",
   "execution_count": 28,
   "id": "abd7b79e",
   "metadata": {},
   "outputs": [
    {
     "data": {
      "text/plain": [
       "36"
      ]
     },
     "execution_count": 28,
     "metadata": {},
     "output_type": "execute_result"
    }
   ],
   "source": [
    "df['original_title'].isnull().sum()"
   ]
  },
  {
   "cell_type": "markdown",
   "id": "cda73f04",
   "metadata": {},
   "source": [
    "# Q2"
   ]
  },
  {
   "cell_type": "code",
   "execution_count": 29,
   "id": "ea3990c7",
   "metadata": {},
   "outputs": [
    {
     "name": "stdout",
     "output_type": "stream",
     "text": [
      "Number of unique books': 363\n"
     ]
    }
   ],
   "source": [
    "filtered_books_df = df.dropna(subset=['original_title'])\n",
    "unique_books_count = filtered_books_df['book_id'].nunique()\n",
    "print(f\"Number of unique books': {unique_books_count}\")"
   ]
  },
  {
   "cell_type": "markdown",
   "id": "64c88fdc",
   "metadata": {},
   "source": [
    "# Q3"
   ]
  },
  {
   "cell_type": "code",
   "execution_count": 30,
   "id": "c60b9565",
   "metadata": {},
   "outputs": [
    {
     "name": "stdout",
     "output_type": "stream",
     "text": [
      "Number of unique users in the dataset: 40836\n"
     ]
    }
   ],
   "source": [
    "unique_users_count = df2['user_id'].nunique()\n",
    "print(f\"Number of unique users in the dataset: {unique_users_count}\")"
   ]
  },
  {
   "cell_type": "markdown",
   "id": "96948cb0",
   "metadata": {},
   "source": [
    "# Q4"
   ]
  },
  {
   "cell_type": "code",
   "execution_count": 18,
   "id": "f5b8978c",
   "metadata": {},
   "outputs": [
    {
     "data": {
      "text/plain": [
       "3651"
      ]
     },
     "execution_count": 18,
     "metadata": {},
     "output_type": "execute_result"
    }
   ],
   "source": [
    "unique_users = df1['tag_id'].nunique()\n",
    "unique_users"
   ]
  },
  {
   "cell_type": "markdown",
   "id": "a7f8ac26",
   "metadata": {},
   "source": [
    "# Q5"
   ]
  },
  {
   "cell_type": "code",
   "execution_count": 8,
   "id": "1560b936",
   "metadata": {},
   "outputs": [
    {
     "name": "stdout",
     "output_type": "stream",
     "text": [
      "The most frequently used tag_id is: 4600\n"
     ]
    }
   ],
   "source": [
    "tag_counts = df1['tag_id'].value_counts()\n",
    "\n",
    "# Find the most frequently occurring tag_id\n",
    "most_frequent_tag_id = tag_counts.idxmax()\n",
    "\n",
    "# If there are multiple tag_ids with the same highest count, get the one with the least numerical value\n",
    "most_frequent_tag_id = min(tag_counts[tag_counts == tag_counts.max()].index)\n",
    "\n",
    "print(f\"The most frequently used tag_id is: {most_frequent_tag_id}\")"
   ]
  },
  {
   "cell_type": "markdown",
   "id": "2e885baf",
   "metadata": {},
   "source": [
    "# Q6"
   ]
  },
  {
   "cell_type": "code",
   "execution_count": 9,
   "id": "1d379259",
   "metadata": {},
   "outputs": [
    {
     "data": {
      "text/plain": [
       "title    Bossypants\n",
       "count        387679\n",
       "Name: 69, dtype: object"
      ]
     },
     "execution_count": 9,
     "metadata": {},
     "output_type": "execute_result"
    }
   ],
   "source": [
    "# Merge the book_tags and books DataFrames on the book_id column\n",
    "merged_df = pd.merge(df1, df, on='goodreads_book_id')\n",
    "\n",
    "# Group by book title and sum the tag counts for each book\n",
    "book_tag_counts = merged_df.groupby('title')['count'].sum().reset_index()\n",
    "\n",
    "# Find the book with the maximum total tag count\n",
    "book_with_most_tags = book_tag_counts.loc[book_tag_counts['count'].idxmax()]\n",
    "\n",
    "book_with_most_tags"
   ]
  },
  {
   "cell_type": "markdown",
   "id": "8da8d3bc",
   "metadata": {},
   "source": [
    "# Q7"
   ]
  },
  {
   "cell_type": "code",
   "execution_count": 23,
   "id": "1ac20fed",
   "metadata": {},
   "outputs": [
    {
     "data": {
      "image/png": "[encoded data removed]",
      "text/plain": [
       "<Figure size 720x432 with 1 Axes>"
      ]
     },
     "metadata": {
      "needs_background": "light"
     },
     "output_type": "display_data"
    }
   ],
   "source": [
    "top_20_tags = df1.groupby('tag_id')['goodreads_book_id'].nunique().nlargest(20)\n",
    "top_20_tags.plot(kind='bar', figsize=(10, 6), color='skyblue')\n",
    "plt.title('Top 20 Unique Tags by User Records')\n",
    "plt.xlabel('Tag ID')\n",
    "plt.ylabel('Number of Users')\n",
    "plt.tight_layout()\n",
    "#plt.grid(True)\n",
    "plt.show()"
   ]
  },
  {
   "cell_type": "code",
   "execution_count": null,
   "id": "a47181b9",
   "metadata": {},
   "outputs": [],
   "source": []
  }
 ],
 "metadata": {
  "kernelspec": {
   "display_name": "Python 3",
   "language": "python",
   "name": "python3"
  },
  "language_info": {
   "codemirror_mode": {
    "name": "ipython",
    "version": 3
   },
   "file_extension": ".py",
   "mimetype": "text/x-python",
   "name": "python",
   "nbconvert_exporter": "python",
   "pygments_lexer": "ipython3",
   "version": "3.8.8"
  }
 },
 "nbformat": 4,
 "nbformat_minor": 5
}
